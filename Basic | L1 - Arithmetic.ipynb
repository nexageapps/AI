{
  "nbformat": 4,
  "nbformat_minor": 0,
  "metadata": {
    "colab": {
      "provenance": [],
      "authorship_tag": "ABX9TyOUQgYkyH0hvZyN9SGX9wHD",
      "include_colab_link": true
    },
    "kernelspec": {
      "name": "python3",
      "display_name": "Python 3"
    },
    "language_info": {
      "name": "python"
    }
  },
  "cells": [
    {
      "cell_type": "markdown",
      "metadata": {
        "id": "view-in-github",
        "colab_type": "text"
      },
      "source": [
        "<a href=\"https://colab.research.google.com/github/nexageapps/AI/blob/main/Basic%20%7C%20L1%20-%20Arithmetic.ipynb\" target=\"_parent\"><img src=\"https://colab.research.google.com/assets/colab-badge.svg\" alt=\"Open In Colab\"/></a>"
      ]
    },
    {
      "cell_type": "code",
      "execution_count": null,
      "metadata": {
        "colab": {
          "base_uri": "https://localhost:8080/"
        },
        "id": "3mEFMociE0Av",
        "outputId": "9581e0b4-6309-47f4-ffa3-e643c42a6607"
      },
      "outputs": [
        {
          "output_type": "stream",
          "name": "stdout",
          "text": [
            "a+b is  tf.Tensor(\n",
            "[[ 5  7  4]\n",
            " [14 25  9]], shape=(2, 3), dtype=int32)\n",
            "a*b is  tf.Tensor(\n",
            "[[  4  10   3]\n",
            " [ 40 100   0]], shape=(2, 3), dtype=int32)\n"
          ]
        }
      ],
      "source": [
        "import tensorflow as tf\n",
        "a = tf.constant([[1,2,3],[4,5,9]])\n",
        "b = tf.constant([[4,5,1],[10,20,0]])\n",
        "\n",
        "print(\"a+b is \", tf.add(a,b))\n",
        "print(\"a*b is \", tf.multiply(a,b))"
      ]
    }
  ]
}